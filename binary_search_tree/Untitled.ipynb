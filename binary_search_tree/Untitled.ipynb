{
 "cells": [
  {
   "cell_type": "code",
   "execution_count": null,
   "metadata": {},
   "outputs": [],
   "source": [
    "def priceCheck(products, productPrices, productSold, soldPrice):\n",
    "    # Write your code here\n",
    "    errors = 0\n",
    "    for x in productSold:\n",
    "    \n",
    "        if x in soldPrice != y in productPrices (where x in productSold == y in products):\n",
    "            errors += 1\n",
    "        return errors\n",
    "    print(errors)"
   ]
  }
 ],
 "metadata": {
  "kernelspec": {
   "display_name": "Python 3",
   "language": "python",
   "name": "python3"
  },
  "language_info": {
   "codemirror_mode": {
    "name": "ipython",
    "version": 3
   },
   "file_extension": ".py",
   "mimetype": "text/x-python",
   "name": "python",
   "nbconvert_exporter": "python",
   "pygments_lexer": "ipython3",
   "version": "3.7.3"
  }
 },
 "nbformat": 4,
 "nbformat_minor": 2
}
